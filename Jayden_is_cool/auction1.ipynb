{
  "nbformat": 4,
  "nbformat_minor": 0,
  "metadata": {
    "colab": {
      "name": "auction.ipynb",
      "version": "0.3.2",
      "provenance": [],
      "include_colab_link": true
    },
    "kernelspec": {
      "name": "python3",
      "display_name": "Python 3"
    }
  },
  "cells": [
    {
      "cell_type": "markdown",
      "metadata": {
        "id": "view-in-github",
        "colab_type": "text"
      },
      "source": [
        "<a href=\"https://colab.research.google.com/github/jaydengreenfield/auction/blob/master/Jayden_is_cool/auction1.ipynb\" target=\"_parent\"><img src=\"https://colab.research.google.com/assets/colab-badge.svg\" alt=\"Open In Colab\"/></a>"
      ]
    },
    {
      "metadata": {
        "id": "NR5rBl4VBN4z",
        "colab_type": "code",
        "colab": {
          "base_uri": "https://localhost:8080/",
          "height": 212
        },
        "outputId": "ab1bff3d-1706-4037-9295-6d4f9a2ea67b"
      },
      "cell_type": "code",
      "source": [
        "class Auction:\n",
        "  itamo = 0\n",
        "  items = {}\n",
        "  def __init__(self,reserve):\n",
        "    self.itno = Auction.itamo + 1\n",
        "    Auction.itamo += 1\n",
        "    self.bids = 0\n",
        "    self.bidid = \"reserve\"\n",
        "    self.bigbid = 0\n",
        "    self.desc = \"Blah blah blah\"\n",
        "    self.rp = reserve\n",
        "    Auction.items[self.itno] = [(self.bigbid > self.rp), self.bids, [self.itno, self.bigbid], ]\n",
        "  \n",
        "  def bid(self, buyid, amount):\n",
        "    if amount >= reserve and amount > self.bigbid:\n",
        "      self.bigbid = amount\n",
        "      self.bidid = buy_id\n",
        "      self.bids += 1\n",
        "    else:\n",
        "      print(\"Bid higher please\")\n",
        "  \n",
        "  @classmethod\n",
        "  def day_end(cls):\n",
        "    sold = 0\n",
        "    for i in Auction.items:\n",
        "      print (Auction.items[i])\n",
        "  \n",
        "  class Buyer:\n",
        "    ids = 0\n",
        "    def __init__(self):\n",
        "      self.buyid = Buyer.ids + 1\n",
        "    \n",
        "    def bidder(self, item, amount):\n",
        "      item.bid(self.buyid, amount)\n",
        "\n",
        "gold_calf = Auction(2000000)\n",
        "cheeseburger = Auction(20)\n",
        "vincent = Auction(700000)\n",
        "end_day()\n",
        "print(Auction.itamo)"
      ],
      "execution_count": 19,
      "outputs": [
        {
          "output_type": "error",
          "ename": "NameError",
          "evalue": "ignored",
          "traceback": [
            "\u001b[0;31m---------------------------------------------------------------------------\u001b[0m",
            "\u001b[0;31mNameError\u001b[0m                                 Traceback (most recent call last)",
            "\u001b[0;32m<ipython-input-19-cd05704c87c5>\u001b[0m in \u001b[0;36m<module>\u001b[0;34m()\u001b[0m\n\u001b[1;32m     37\u001b[0m \u001b[0mcheeseburger\u001b[0m \u001b[0;34m=\u001b[0m \u001b[0mAuction\u001b[0m\u001b[0;34m(\u001b[0m\u001b[0;36m20\u001b[0m\u001b[0;34m)\u001b[0m\u001b[0;34m\u001b[0m\u001b[0;34m\u001b[0m\u001b[0m\n\u001b[1;32m     38\u001b[0m \u001b[0mvincent\u001b[0m \u001b[0;34m=\u001b[0m \u001b[0mAuction\u001b[0m\u001b[0;34m(\u001b[0m\u001b[0;36m700000\u001b[0m\u001b[0;34m)\u001b[0m\u001b[0;34m\u001b[0m\u001b[0;34m\u001b[0m\u001b[0m\n\u001b[0;32m---> 39\u001b[0;31m \u001b[0mend_day\u001b[0m\u001b[0;34m(\u001b[0m\u001b[0;34m)\u001b[0m\u001b[0;34m\u001b[0m\u001b[0;34m\u001b[0m\u001b[0m\n\u001b[0m\u001b[1;32m     40\u001b[0m \u001b[0mprint\u001b[0m\u001b[0;34m(\u001b[0m\u001b[0mAuction\u001b[0m\u001b[0;34m.\u001b[0m\u001b[0mitamo\u001b[0m\u001b[0;34m)\u001b[0m\u001b[0;34m\u001b[0m\u001b[0;34m\u001b[0m\u001b[0m\n",
            "\u001b[0;31mNameError\u001b[0m: name 'end_day' is not defined"
          ]
        }
      ]
    }
  ]
}